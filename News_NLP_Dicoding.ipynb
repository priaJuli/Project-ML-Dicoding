{
  "nbformat": 4,
  "nbformat_minor": 0,
  "metadata": {
    "colab": {
      "provenance": [],
      "machine_shape": "hm"
    },
    "kernelspec": {
      "name": "python3",
      "display_name": "Python 3"
    },
    "language_info": {
      "name": "python"
    }
  },
  "cells": [
    {
      "cell_type": "markdown",
      "source": [
        "Dataset sources\n",
        "\n",
        "https://www.kaggle.com/datasets/amananandrai/ag-news-classification-dataset/data\n",
        "\n",
        "News articles of class \"world\" (1), \"sports\" (2), \"business\" (3), and \"Science\" (4)\n",
        "\n",
        "The dataset only take 3000 sample, with four class"
      ],
      "metadata": {
        "id": "Sw8G3zZfKcmq"
      }
    },
    {
      "cell_type": "markdown",
      "source": [
        "Features used in this submission :\n",
        "\n",
        "1. Tokenizer Keras\n",
        "2. Stopword removal from nltk\n",
        "3. Embedding layer"
      ],
      "metadata": {
        "id": "4BD4MJ8s7niW"
      }
    },
    {
      "cell_type": "markdown",
      "source": [
        "dataset_url = \"https://github.com/priaJuli/Project-ML-Dicoding/blob/master/AG-News-dataset.zip\""
      ],
      "metadata": {
        "id": "2pIpNBwNKjd2"
      }
    },
    {
      "cell_type": "markdown",
      "source": [
        "The seed number used in this submission = 42,\n",
        "\n",
        "The number 42 is a magic number that is often used by programmers."
      ],
      "metadata": {
        "id": "78hIjW2wlq4M"
      }
    },
    {
      "cell_type": "code",
      "source": [
        "import zipfile,os\n",
        "\n",
        "datasetpath = '/content/AG-News-dataset.zip'\n",
        "\n",
        "if not os.path.isfile(datasetpath):\n",
        "    !wget \"https://raw.githubusercontent.com/priaJuli/Project-ML-Dicoding/master/AG-News-dataset.zip\"\n",
        "    zip_ref = zipfile.ZipFile(datasetpath, 'r')\n",
        "    zip_ref.extractall('/content/tmp/')\n",
        "    zip_ref.close()"
      ],
      "metadata": {
        "id": "m9HkMTbnC9Iz"
      },
      "execution_count": 1,
      "outputs": []
    },
    {
      "cell_type": "code",
      "source": [
        "import pandas as pd\n",
        "import numpy as np\n",
        "from sklearn.preprocessing import OneHotEncoder\n",
        "\n",
        "\n",
        "path_train = \"/content/tmp/train.csv\"\n",
        "path_test = \"/content/tmp/test.csv\"\n",
        "\n",
        "## Loading data\n",
        "df = pd.read_csv(path_train, sep=',')\n",
        "df = df.sample(n=3000, random_state=1)\n",
        "\n",
        "## Reshape data for onehotencoder\n",
        "label = df['Class Index'].values.reshape(-1, 1)\n",
        "\n",
        "enc = OneHotEncoder(handle_unknown='ignore')\n",
        "enc.fit(label)\n",
        "\n",
        "## Transform label to categorical label\n",
        "y = enc.transform(label).toarray()\n",
        "\n",
        "## Combine column title and description for feature used in this submission\n",
        "df['text'] = df['Title'] + ' ' + df['Description']\n",
        "\n"
      ],
      "metadata": {
        "id": "Fwjpvf72-A4E"
      },
      "execution_count": 2,
      "outputs": []
    },
    {
      "cell_type": "code",
      "source": [
        "df.head()"
      ],
      "metadata": {
        "colab": {
          "base_uri": "https://localhost:8080/",
          "height": 206
        },
        "id": "cd94JEN-OXel",
        "outputId": "ec60ed6e-c171-4200-d43f-ae25daa5276a"
      },
      "execution_count": 3,
      "outputs": [
        {
          "output_type": "execute_result",
          "data": {
            "text/plain": [
              "       Class Index                                        Title  \\\n",
              "76467            4                    BEA buzzing about Beehive   \n",
              "27991            3      Saudi Violence Pushes Oil Prices Higher   \n",
              "62646            1              Storm shows Haiti #39;s straits   \n",
              "28374            4  Crews Fail to Find Tree-Killing Beetle (AP)   \n",
              "98305            2                         Justice Is Too Light   \n",
              "\n",
              "                                             Description  \\\n",
              "76467  BURLINGAME, CALIF.-- BEA Systems is expanding ...   \n",
              "27991  Oil prices were forced higher today by an outb...   \n",
              "62646  Muddy waters still occupied the heart of Gonai...   \n",
              "28374  AP - Survey crews searching through woods and ...   \n",
              "98305  It's too bad Stern stopped at 30 games for Ron...   \n",
              "\n",
              "                                                    text  \n",
              "76467  BEA buzzing about Beehive BURLINGAME, CALIF.--...  \n",
              "27991  Saudi Violence Pushes Oil Prices Higher Oil pr...  \n",
              "62646  Storm shows Haiti #39;s straits Muddy waters s...  \n",
              "28374  Crews Fail to Find Tree-Killing Beetle (AP) AP...  \n",
              "98305  Justice Is Too Light It's too bad Stern stoppe...  "
            ],
            "text/html": [
              "\n",
              "  <div id=\"df-f39515ae-40f8-445b-8918-8defae67c88f\" class=\"colab-df-container\">\n",
              "    <div>\n",
              "<style scoped>\n",
              "    .dataframe tbody tr th:only-of-type {\n",
              "        vertical-align: middle;\n",
              "    }\n",
              "\n",
              "    .dataframe tbody tr th {\n",
              "        vertical-align: top;\n",
              "    }\n",
              "\n",
              "    .dataframe thead th {\n",
              "        text-align: right;\n",
              "    }\n",
              "</style>\n",
              "<table border=\"1\" class=\"dataframe\">\n",
              "  <thead>\n",
              "    <tr style=\"text-align: right;\">\n",
              "      <th></th>\n",
              "      <th>Class Index</th>\n",
              "      <th>Title</th>\n",
              "      <th>Description</th>\n",
              "      <th>text</th>\n",
              "    </tr>\n",
              "  </thead>\n",
              "  <tbody>\n",
              "    <tr>\n",
              "      <th>76467</th>\n",
              "      <td>4</td>\n",
              "      <td>BEA buzzing about Beehive</td>\n",
              "      <td>BURLINGAME, CALIF.-- BEA Systems is expanding ...</td>\n",
              "      <td>BEA buzzing about Beehive BURLINGAME, CALIF.--...</td>\n",
              "    </tr>\n",
              "    <tr>\n",
              "      <th>27991</th>\n",
              "      <td>3</td>\n",
              "      <td>Saudi Violence Pushes Oil Prices Higher</td>\n",
              "      <td>Oil prices were forced higher today by an outb...</td>\n",
              "      <td>Saudi Violence Pushes Oil Prices Higher Oil pr...</td>\n",
              "    </tr>\n",
              "    <tr>\n",
              "      <th>62646</th>\n",
              "      <td>1</td>\n",
              "      <td>Storm shows Haiti #39;s straits</td>\n",
              "      <td>Muddy waters still occupied the heart of Gonai...</td>\n",
              "      <td>Storm shows Haiti #39;s straits Muddy waters s...</td>\n",
              "    </tr>\n",
              "    <tr>\n",
              "      <th>28374</th>\n",
              "      <td>4</td>\n",
              "      <td>Crews Fail to Find Tree-Killing Beetle (AP)</td>\n",
              "      <td>AP - Survey crews searching through woods and ...</td>\n",
              "      <td>Crews Fail to Find Tree-Killing Beetle (AP) AP...</td>\n",
              "    </tr>\n",
              "    <tr>\n",
              "      <th>98305</th>\n",
              "      <td>2</td>\n",
              "      <td>Justice Is Too Light</td>\n",
              "      <td>It's too bad Stern stopped at 30 games for Ron...</td>\n",
              "      <td>Justice Is Too Light It's too bad Stern stoppe...</td>\n",
              "    </tr>\n",
              "  </tbody>\n",
              "</table>\n",
              "</div>\n",
              "    <div class=\"colab-df-buttons\">\n",
              "\n",
              "  <div class=\"colab-df-container\">\n",
              "    <button class=\"colab-df-convert\" onclick=\"convertToInteractive('df-f39515ae-40f8-445b-8918-8defae67c88f')\"\n",
              "            title=\"Convert this dataframe to an interactive table.\"\n",
              "            style=\"display:none;\">\n",
              "\n",
              "  <svg xmlns=\"http://www.w3.org/2000/svg\" height=\"24px\" viewBox=\"0 -960 960 960\">\n",
              "    <path d=\"M120-120v-720h720v720H120Zm60-500h600v-160H180v160Zm220 220h160v-160H400v160Zm0 220h160v-160H400v160ZM180-400h160v-160H180v160Zm440 0h160v-160H620v160ZM180-180h160v-160H180v160Zm440 0h160v-160H620v160Z\"/>\n",
              "  </svg>\n",
              "    </button>\n",
              "\n",
              "  <style>\n",
              "    .colab-df-container {\n",
              "      display:flex;\n",
              "      gap: 12px;\n",
              "    }\n",
              "\n",
              "    .colab-df-convert {\n",
              "      background-color: #E8F0FE;\n",
              "      border: none;\n",
              "      border-radius: 50%;\n",
              "      cursor: pointer;\n",
              "      display: none;\n",
              "      fill: #1967D2;\n",
              "      height: 32px;\n",
              "      padding: 0 0 0 0;\n",
              "      width: 32px;\n",
              "    }\n",
              "\n",
              "    .colab-df-convert:hover {\n",
              "      background-color: #E2EBFA;\n",
              "      box-shadow: 0px 1px 2px rgba(60, 64, 67, 0.3), 0px 1px 3px 1px rgba(60, 64, 67, 0.15);\n",
              "      fill: #174EA6;\n",
              "    }\n",
              "\n",
              "    .colab-df-buttons div {\n",
              "      margin-bottom: 4px;\n",
              "    }\n",
              "\n",
              "    [theme=dark] .colab-df-convert {\n",
              "      background-color: #3B4455;\n",
              "      fill: #D2E3FC;\n",
              "    }\n",
              "\n",
              "    [theme=dark] .colab-df-convert:hover {\n",
              "      background-color: #434B5C;\n",
              "      box-shadow: 0px 1px 3px 1px rgba(0, 0, 0, 0.15);\n",
              "      filter: drop-shadow(0px 1px 2px rgba(0, 0, 0, 0.3));\n",
              "      fill: #FFFFFF;\n",
              "    }\n",
              "  </style>\n",
              "\n",
              "    <script>\n",
              "      const buttonEl =\n",
              "        document.querySelector('#df-f39515ae-40f8-445b-8918-8defae67c88f button.colab-df-convert');\n",
              "      buttonEl.style.display =\n",
              "        google.colab.kernel.accessAllowed ? 'block' : 'none';\n",
              "\n",
              "      async function convertToInteractive(key) {\n",
              "        const element = document.querySelector('#df-f39515ae-40f8-445b-8918-8defae67c88f');\n",
              "        const dataTable =\n",
              "          await google.colab.kernel.invokeFunction('convertToInteractive',\n",
              "                                                    [key], {});\n",
              "        if (!dataTable) return;\n",
              "\n",
              "        const docLinkHtml = 'Like what you see? Visit the ' +\n",
              "          '<a target=\"_blank\" href=https://colab.research.google.com/notebooks/data_table.ipynb>data table notebook</a>'\n",
              "          + ' to learn more about interactive tables.';\n",
              "        element.innerHTML = '';\n",
              "        dataTable['output_type'] = 'display_data';\n",
              "        await google.colab.output.renderOutput(dataTable, element);\n",
              "        const docLink = document.createElement('div');\n",
              "        docLink.innerHTML = docLinkHtml;\n",
              "        element.appendChild(docLink);\n",
              "      }\n",
              "    </script>\n",
              "  </div>\n",
              "\n",
              "\n",
              "<div id=\"df-38d45a47-8f79-4dfc-81a5-fd397185b540\">\n",
              "  <button class=\"colab-df-quickchart\" onclick=\"quickchart('df-38d45a47-8f79-4dfc-81a5-fd397185b540')\"\n",
              "            title=\"Suggest charts.\"\n",
              "            style=\"display:none;\">\n",
              "\n",
              "<svg xmlns=\"http://www.w3.org/2000/svg\" height=\"24px\"viewBox=\"0 0 24 24\"\n",
              "     width=\"24px\">\n",
              "    <g>\n",
              "        <path d=\"M19 3H5c-1.1 0-2 .9-2 2v14c0 1.1.9 2 2 2h14c1.1 0 2-.9 2-2V5c0-1.1-.9-2-2-2zM9 17H7v-7h2v7zm4 0h-2V7h2v10zm4 0h-2v-4h2v4z\"/>\n",
              "    </g>\n",
              "</svg>\n",
              "  </button>\n",
              "\n",
              "<style>\n",
              "  .colab-df-quickchart {\n",
              "      --bg-color: #E8F0FE;\n",
              "      --fill-color: #1967D2;\n",
              "      --hover-bg-color: #E2EBFA;\n",
              "      --hover-fill-color: #174EA6;\n",
              "      --disabled-fill-color: #AAA;\n",
              "      --disabled-bg-color: #DDD;\n",
              "  }\n",
              "\n",
              "  [theme=dark] .colab-df-quickchart {\n",
              "      --bg-color: #3B4455;\n",
              "      --fill-color: #D2E3FC;\n",
              "      --hover-bg-color: #434B5C;\n",
              "      --hover-fill-color: #FFFFFF;\n",
              "      --disabled-bg-color: #3B4455;\n",
              "      --disabled-fill-color: #666;\n",
              "  }\n",
              "\n",
              "  .colab-df-quickchart {\n",
              "    background-color: var(--bg-color);\n",
              "    border: none;\n",
              "    border-radius: 50%;\n",
              "    cursor: pointer;\n",
              "    display: none;\n",
              "    fill: var(--fill-color);\n",
              "    height: 32px;\n",
              "    padding: 0;\n",
              "    width: 32px;\n",
              "  }\n",
              "\n",
              "  .colab-df-quickchart:hover {\n",
              "    background-color: var(--hover-bg-color);\n",
              "    box-shadow: 0 1px 2px rgba(60, 64, 67, 0.3), 0 1px 3px 1px rgba(60, 64, 67, 0.15);\n",
              "    fill: var(--button-hover-fill-color);\n",
              "  }\n",
              "\n",
              "  .colab-df-quickchart-complete:disabled,\n",
              "  .colab-df-quickchart-complete:disabled:hover {\n",
              "    background-color: var(--disabled-bg-color);\n",
              "    fill: var(--disabled-fill-color);\n",
              "    box-shadow: none;\n",
              "  }\n",
              "\n",
              "  .colab-df-spinner {\n",
              "    border: 2px solid var(--fill-color);\n",
              "    border-color: transparent;\n",
              "    border-bottom-color: var(--fill-color);\n",
              "    animation:\n",
              "      spin 1s steps(1) infinite;\n",
              "  }\n",
              "\n",
              "  @keyframes spin {\n",
              "    0% {\n",
              "      border-color: transparent;\n",
              "      border-bottom-color: var(--fill-color);\n",
              "      border-left-color: var(--fill-color);\n",
              "    }\n",
              "    20% {\n",
              "      border-color: transparent;\n",
              "      border-left-color: var(--fill-color);\n",
              "      border-top-color: var(--fill-color);\n",
              "    }\n",
              "    30% {\n",
              "      border-color: transparent;\n",
              "      border-left-color: var(--fill-color);\n",
              "      border-top-color: var(--fill-color);\n",
              "      border-right-color: var(--fill-color);\n",
              "    }\n",
              "    40% {\n",
              "      border-color: transparent;\n",
              "      border-right-color: var(--fill-color);\n",
              "      border-top-color: var(--fill-color);\n",
              "    }\n",
              "    60% {\n",
              "      border-color: transparent;\n",
              "      border-right-color: var(--fill-color);\n",
              "    }\n",
              "    80% {\n",
              "      border-color: transparent;\n",
              "      border-right-color: var(--fill-color);\n",
              "      border-bottom-color: var(--fill-color);\n",
              "    }\n",
              "    90% {\n",
              "      border-color: transparent;\n",
              "      border-bottom-color: var(--fill-color);\n",
              "    }\n",
              "  }\n",
              "</style>\n",
              "\n",
              "  <script>\n",
              "    async function quickchart(key) {\n",
              "      const quickchartButtonEl =\n",
              "        document.querySelector('#' + key + ' button');\n",
              "      quickchartButtonEl.disabled = true;  // To prevent multiple clicks.\n",
              "      quickchartButtonEl.classList.add('colab-df-spinner');\n",
              "      try {\n",
              "        const charts = await google.colab.kernel.invokeFunction(\n",
              "            'suggestCharts', [key], {});\n",
              "      } catch (error) {\n",
              "        console.error('Error during call to suggestCharts:', error);\n",
              "      }\n",
              "      quickchartButtonEl.classList.remove('colab-df-spinner');\n",
              "      quickchartButtonEl.classList.add('colab-df-quickchart-complete');\n",
              "    }\n",
              "    (() => {\n",
              "      let quickchartButtonEl =\n",
              "        document.querySelector('#df-38d45a47-8f79-4dfc-81a5-fd397185b540 button');\n",
              "      quickchartButtonEl.style.display =\n",
              "        google.colab.kernel.accessAllowed ? 'block' : 'none';\n",
              "    })();\n",
              "  </script>\n",
              "</div>\n",
              "    </div>\n",
              "  </div>\n"
            ]
          },
          "metadata": {},
          "execution_count": 3
        }
      ]
    },
    {
      "cell_type": "code",
      "source": [
        "df.count()"
      ],
      "metadata": {
        "colab": {
          "base_uri": "https://localhost:8080/"
        },
        "id": "8n98sFWPEwOk",
        "outputId": "3f6182f4-ec0f-4eb0-92bc-03ebd9a9862e"
      },
      "execution_count": 4,
      "outputs": [
        {
          "output_type": "execute_result",
          "data": {
            "text/plain": [
              "Class Index    3000\n",
              "Title          3000\n",
              "Description    3000\n",
              "text           3000\n",
              "dtype: int64"
            ]
          },
          "metadata": {},
          "execution_count": 4
        }
      ]
    },
    {
      "cell_type": "code",
      "source": [
        "np.unique(df['Class Index'], return_counts=True)"
      ],
      "metadata": {
        "colab": {
          "base_uri": "https://localhost:8080/"
        },
        "id": "3p-sMzYjFX3o",
        "outputId": "3582dc09-4232-49b6-d6a5-11de104a2ad9"
      },
      "execution_count": 5,
      "outputs": [
        {
          "output_type": "execute_result",
          "data": {
            "text/plain": [
              "(array([1, 2, 3, 4]), array([757, 776, 748, 719]))"
            ]
          },
          "metadata": {},
          "execution_count": 5
        }
      ]
    },
    {
      "cell_type": "markdown",
      "source": [
        "\n",
        "Clean string"
      ],
      "metadata": {
        "id": "_lvjJgHbCB4q"
      }
    },
    {
      "cell_type": "code",
      "source": [
        "import string\n",
        "import re\n",
        "import nltk\n",
        "nltk.download('stopwords')\n",
        "from nltk.corpus import stopwords\n",
        "sw_nltk = stopwords.words('english')\n",
        "\n",
        "def clean(text):\n",
        "    text = text.lower()\n",
        "    text = re.sub('[^a-zA-Z0-9]',' ',text)\n",
        "    text = text.split()\n",
        "    text = [ i for i in text if i not in stopwords.words('english')]\n",
        "    return ' '.join(text)"
      ],
      "metadata": {
        "id": "LfjCiJNBB8rS",
        "colab": {
          "base_uri": "https://localhost:8080/"
        },
        "outputId": "7f6888ab-e87a-460d-bb3f-a6026cecbf2f"
      },
      "execution_count": 6,
      "outputs": [
        {
          "output_type": "stream",
          "name": "stderr",
          "text": [
            "[nltk_data] Downloading package stopwords to /root/nltk_data...\n",
            "[nltk_data]   Package stopwords is already up-to-date!\n"
          ]
        }
      ]
    },
    {
      "cell_type": "code",
      "source": [
        "df['text'] = df['text'].apply(clean)"
      ],
      "metadata": {
        "id": "FIaZoiQRCJ5u"
      },
      "execution_count": 7,
      "outputs": []
    },
    {
      "cell_type": "code",
      "source": [
        "df.head(3)"
      ],
      "metadata": {
        "colab": {
          "base_uri": "https://localhost:8080/",
          "height": 143
        },
        "id": "v9pO_XbiD6_c",
        "outputId": "c64843aa-e1b5-43f1-fba3-369add7c49c0"
      },
      "execution_count": 8,
      "outputs": [
        {
          "output_type": "execute_result",
          "data": {
            "text/plain": [
              "       Class Index                                    Title  \\\n",
              "76467            4                BEA buzzing about Beehive   \n",
              "27991            3  Saudi Violence Pushes Oil Prices Higher   \n",
              "62646            1          Storm shows Haiti #39;s straits   \n",
              "\n",
              "                                             Description  \\\n",
              "76467  BURLINGAME, CALIF.-- BEA Systems is expanding ...   \n",
              "27991  Oil prices were forced higher today by an outb...   \n",
              "62646  Muddy waters still occupied the heart of Gonai...   \n",
              "\n",
              "                                                    text  \n",
              "76467  bea buzzing beehive burlingame calif bea syste...  \n",
              "27991  saudi violence pushes oil prices higher oil pr...  \n",
              "62646  storm shows haiti 39 straits muddy waters stil...  "
            ],
            "text/html": [
              "\n",
              "  <div id=\"df-260a73a1-6c09-468c-a6ba-75b491efa56c\" class=\"colab-df-container\">\n",
              "    <div>\n",
              "<style scoped>\n",
              "    .dataframe tbody tr th:only-of-type {\n",
              "        vertical-align: middle;\n",
              "    }\n",
              "\n",
              "    .dataframe tbody tr th {\n",
              "        vertical-align: top;\n",
              "    }\n",
              "\n",
              "    .dataframe thead th {\n",
              "        text-align: right;\n",
              "    }\n",
              "</style>\n",
              "<table border=\"1\" class=\"dataframe\">\n",
              "  <thead>\n",
              "    <tr style=\"text-align: right;\">\n",
              "      <th></th>\n",
              "      <th>Class Index</th>\n",
              "      <th>Title</th>\n",
              "      <th>Description</th>\n",
              "      <th>text</th>\n",
              "    </tr>\n",
              "  </thead>\n",
              "  <tbody>\n",
              "    <tr>\n",
              "      <th>76467</th>\n",
              "      <td>4</td>\n",
              "      <td>BEA buzzing about Beehive</td>\n",
              "      <td>BURLINGAME, CALIF.-- BEA Systems is expanding ...</td>\n",
              "      <td>bea buzzing beehive burlingame calif bea syste...</td>\n",
              "    </tr>\n",
              "    <tr>\n",
              "      <th>27991</th>\n",
              "      <td>3</td>\n",
              "      <td>Saudi Violence Pushes Oil Prices Higher</td>\n",
              "      <td>Oil prices were forced higher today by an outb...</td>\n",
              "      <td>saudi violence pushes oil prices higher oil pr...</td>\n",
              "    </tr>\n",
              "    <tr>\n",
              "      <th>62646</th>\n",
              "      <td>1</td>\n",
              "      <td>Storm shows Haiti #39;s straits</td>\n",
              "      <td>Muddy waters still occupied the heart of Gonai...</td>\n",
              "      <td>storm shows haiti 39 straits muddy waters stil...</td>\n",
              "    </tr>\n",
              "  </tbody>\n",
              "</table>\n",
              "</div>\n",
              "    <div class=\"colab-df-buttons\">\n",
              "\n",
              "  <div class=\"colab-df-container\">\n",
              "    <button class=\"colab-df-convert\" onclick=\"convertToInteractive('df-260a73a1-6c09-468c-a6ba-75b491efa56c')\"\n",
              "            title=\"Convert this dataframe to an interactive table.\"\n",
              "            style=\"display:none;\">\n",
              "\n",
              "  <svg xmlns=\"http://www.w3.org/2000/svg\" height=\"24px\" viewBox=\"0 -960 960 960\">\n",
              "    <path d=\"M120-120v-720h720v720H120Zm60-500h600v-160H180v160Zm220 220h160v-160H400v160Zm0 220h160v-160H400v160ZM180-400h160v-160H180v160Zm440 0h160v-160H620v160ZM180-180h160v-160H180v160Zm440 0h160v-160H620v160Z\"/>\n",
              "  </svg>\n",
              "    </button>\n",
              "\n",
              "  <style>\n",
              "    .colab-df-container {\n",
              "      display:flex;\n",
              "      gap: 12px;\n",
              "    }\n",
              "\n",
              "    .colab-df-convert {\n",
              "      background-color: #E8F0FE;\n",
              "      border: none;\n",
              "      border-radius: 50%;\n",
              "      cursor: pointer;\n",
              "      display: none;\n",
              "      fill: #1967D2;\n",
              "      height: 32px;\n",
              "      padding: 0 0 0 0;\n",
              "      width: 32px;\n",
              "    }\n",
              "\n",
              "    .colab-df-convert:hover {\n",
              "      background-color: #E2EBFA;\n",
              "      box-shadow: 0px 1px 2px rgba(60, 64, 67, 0.3), 0px 1px 3px 1px rgba(60, 64, 67, 0.15);\n",
              "      fill: #174EA6;\n",
              "    }\n",
              "\n",
              "    .colab-df-buttons div {\n",
              "      margin-bottom: 4px;\n",
              "    }\n",
              "\n",
              "    [theme=dark] .colab-df-convert {\n",
              "      background-color: #3B4455;\n",
              "      fill: #D2E3FC;\n",
              "    }\n",
              "\n",
              "    [theme=dark] .colab-df-convert:hover {\n",
              "      background-color: #434B5C;\n",
              "      box-shadow: 0px 1px 3px 1px rgba(0, 0, 0, 0.15);\n",
              "      filter: drop-shadow(0px 1px 2px rgba(0, 0, 0, 0.3));\n",
              "      fill: #FFFFFF;\n",
              "    }\n",
              "  </style>\n",
              "\n",
              "    <script>\n",
              "      const buttonEl =\n",
              "        document.querySelector('#df-260a73a1-6c09-468c-a6ba-75b491efa56c button.colab-df-convert');\n",
              "      buttonEl.style.display =\n",
              "        google.colab.kernel.accessAllowed ? 'block' : 'none';\n",
              "\n",
              "      async function convertToInteractive(key) {\n",
              "        const element = document.querySelector('#df-260a73a1-6c09-468c-a6ba-75b491efa56c');\n",
              "        const dataTable =\n",
              "          await google.colab.kernel.invokeFunction('convertToInteractive',\n",
              "                                                    [key], {});\n",
              "        if (!dataTable) return;\n",
              "\n",
              "        const docLinkHtml = 'Like what you see? Visit the ' +\n",
              "          '<a target=\"_blank\" href=https://colab.research.google.com/notebooks/data_table.ipynb>data table notebook</a>'\n",
              "          + ' to learn more about interactive tables.';\n",
              "        element.innerHTML = '';\n",
              "        dataTable['output_type'] = 'display_data';\n",
              "        await google.colab.output.renderOutput(dataTable, element);\n",
              "        const docLink = document.createElement('div');\n",
              "        docLink.innerHTML = docLinkHtml;\n",
              "        element.appendChild(docLink);\n",
              "      }\n",
              "    </script>\n",
              "  </div>\n",
              "\n",
              "\n",
              "<div id=\"df-b8f4a4b6-9e7e-43c5-ae0e-51a0d24b098a\">\n",
              "  <button class=\"colab-df-quickchart\" onclick=\"quickchart('df-b8f4a4b6-9e7e-43c5-ae0e-51a0d24b098a')\"\n",
              "            title=\"Suggest charts.\"\n",
              "            style=\"display:none;\">\n",
              "\n",
              "<svg xmlns=\"http://www.w3.org/2000/svg\" height=\"24px\"viewBox=\"0 0 24 24\"\n",
              "     width=\"24px\">\n",
              "    <g>\n",
              "        <path d=\"M19 3H5c-1.1 0-2 .9-2 2v14c0 1.1.9 2 2 2h14c1.1 0 2-.9 2-2V5c0-1.1-.9-2-2-2zM9 17H7v-7h2v7zm4 0h-2V7h2v10zm4 0h-2v-4h2v4z\"/>\n",
              "    </g>\n",
              "</svg>\n",
              "  </button>\n",
              "\n",
              "<style>\n",
              "  .colab-df-quickchart {\n",
              "      --bg-color: #E8F0FE;\n",
              "      --fill-color: #1967D2;\n",
              "      --hover-bg-color: #E2EBFA;\n",
              "      --hover-fill-color: #174EA6;\n",
              "      --disabled-fill-color: #AAA;\n",
              "      --disabled-bg-color: #DDD;\n",
              "  }\n",
              "\n",
              "  [theme=dark] .colab-df-quickchart {\n",
              "      --bg-color: #3B4455;\n",
              "      --fill-color: #D2E3FC;\n",
              "      --hover-bg-color: #434B5C;\n",
              "      --hover-fill-color: #FFFFFF;\n",
              "      --disabled-bg-color: #3B4455;\n",
              "      --disabled-fill-color: #666;\n",
              "  }\n",
              "\n",
              "  .colab-df-quickchart {\n",
              "    background-color: var(--bg-color);\n",
              "    border: none;\n",
              "    border-radius: 50%;\n",
              "    cursor: pointer;\n",
              "    display: none;\n",
              "    fill: var(--fill-color);\n",
              "    height: 32px;\n",
              "    padding: 0;\n",
              "    width: 32px;\n",
              "  }\n",
              "\n",
              "  .colab-df-quickchart:hover {\n",
              "    background-color: var(--hover-bg-color);\n",
              "    box-shadow: 0 1px 2px rgba(60, 64, 67, 0.3), 0 1px 3px 1px rgba(60, 64, 67, 0.15);\n",
              "    fill: var(--button-hover-fill-color);\n",
              "  }\n",
              "\n",
              "  .colab-df-quickchart-complete:disabled,\n",
              "  .colab-df-quickchart-complete:disabled:hover {\n",
              "    background-color: var(--disabled-bg-color);\n",
              "    fill: var(--disabled-fill-color);\n",
              "    box-shadow: none;\n",
              "  }\n",
              "\n",
              "  .colab-df-spinner {\n",
              "    border: 2px solid var(--fill-color);\n",
              "    border-color: transparent;\n",
              "    border-bottom-color: var(--fill-color);\n",
              "    animation:\n",
              "      spin 1s steps(1) infinite;\n",
              "  }\n",
              "\n",
              "  @keyframes spin {\n",
              "    0% {\n",
              "      border-color: transparent;\n",
              "      border-bottom-color: var(--fill-color);\n",
              "      border-left-color: var(--fill-color);\n",
              "    }\n",
              "    20% {\n",
              "      border-color: transparent;\n",
              "      border-left-color: var(--fill-color);\n",
              "      border-top-color: var(--fill-color);\n",
              "    }\n",
              "    30% {\n",
              "      border-color: transparent;\n",
              "      border-left-color: var(--fill-color);\n",
              "      border-top-color: var(--fill-color);\n",
              "      border-right-color: var(--fill-color);\n",
              "    }\n",
              "    40% {\n",
              "      border-color: transparent;\n",
              "      border-right-color: var(--fill-color);\n",
              "      border-top-color: var(--fill-color);\n",
              "    }\n",
              "    60% {\n",
              "      border-color: transparent;\n",
              "      border-right-color: var(--fill-color);\n",
              "    }\n",
              "    80% {\n",
              "      border-color: transparent;\n",
              "      border-right-color: var(--fill-color);\n",
              "      border-bottom-color: var(--fill-color);\n",
              "    }\n",
              "    90% {\n",
              "      border-color: transparent;\n",
              "      border-bottom-color: var(--fill-color);\n",
              "    }\n",
              "  }\n",
              "</style>\n",
              "\n",
              "  <script>\n",
              "    async function quickchart(key) {\n",
              "      const quickchartButtonEl =\n",
              "        document.querySelector('#' + key + ' button');\n",
              "      quickchartButtonEl.disabled = true;  // To prevent multiple clicks.\n",
              "      quickchartButtonEl.classList.add('colab-df-spinner');\n",
              "      try {\n",
              "        const charts = await google.colab.kernel.invokeFunction(\n",
              "            'suggestCharts', [key], {});\n",
              "      } catch (error) {\n",
              "        console.error('Error during call to suggestCharts:', error);\n",
              "      }\n",
              "      quickchartButtonEl.classList.remove('colab-df-spinner');\n",
              "      quickchartButtonEl.classList.add('colab-df-quickchart-complete');\n",
              "    }\n",
              "    (() => {\n",
              "      let quickchartButtonEl =\n",
              "        document.querySelector('#df-b8f4a4b6-9e7e-43c5-ae0e-51a0d24b098a button');\n",
              "      quickchartButtonEl.style.display =\n",
              "        google.colab.kernel.accessAllowed ? 'block' : 'none';\n",
              "    })();\n",
              "  </script>\n",
              "</div>\n",
              "    </div>\n",
              "  </div>\n"
            ]
          },
          "metadata": {},
          "execution_count": 8
        }
      ]
    },
    {
      "cell_type": "code",
      "source": [
        "from sklearn.model_selection import train_test_split\n",
        "\n",
        "kalimat = df['text'].values\n",
        "\n",
        "## Split dataset\n",
        "kalimat_latih, kalimat_test, y_latih, y_test = train_test_split(kalimat, y, test_size=0.2, random_state=42)"
      ],
      "metadata": {
        "id": "98t1zPHp_Ueg"
      },
      "execution_count": 9,
      "outputs": []
    },
    {
      "cell_type": "code",
      "source": [
        "from tensorflow.keras.preprocessing.text import Tokenizer\n",
        "from tensorflow.keras.preprocessing.sequence import pad_sequences\n",
        "\n",
        "tokenizer = Tokenizer(num_words=14000, oov_token='x')\n",
        "tokenizer.fit_on_texts(kalimat_latih)\n",
        "tokenizer.fit_on_texts(kalimat_test)\n",
        "\n",
        "sekuens_latih = tokenizer.texts_to_sequences(kalimat_latih)\n",
        "sekuens_test = tokenizer.texts_to_sequences(kalimat_test)\n",
        "\n",
        "padded_latih = pad_sequences(sekuens_latih, maxlen=120)\n",
        "padded_test = pad_sequences(sekuens_test, maxlen=120)\n"
      ],
      "metadata": {
        "id": "AIK_iB0dAG6h"
      },
      "execution_count": 10,
      "outputs": []
    },
    {
      "cell_type": "code",
      "source": [
        "print(len(sekuens_latih[0]))"
      ],
      "metadata": {
        "colab": {
          "base_uri": "https://localhost:8080/"
        },
        "id": "f21ZxBVrsCkZ",
        "outputId": "87c0f66d-9f27-446f-a2bb-805aa966d499"
      },
      "execution_count": 11,
      "outputs": [
        {
          "output_type": "stream",
          "name": "stdout",
          "text": [
            "32\n"
          ]
        }
      ]
    },
    {
      "cell_type": "code",
      "source": [
        "padded_test.shape"
      ],
      "metadata": {
        "colab": {
          "base_uri": "https://localhost:8080/"
        },
        "id": "eXEs4RhNktzf",
        "outputId": "6c6cbbbd-0146-418e-8aa3-f3a768964f4f"
      },
      "execution_count": 12,
      "outputs": [
        {
          "output_type": "execute_result",
          "data": {
            "text/plain": [
              "(600, 120)"
            ]
          },
          "metadata": {},
          "execution_count": 12
        }
      ]
    },
    {
      "cell_type": "code",
      "source": [
        "padded_latih.shape"
      ],
      "metadata": {
        "colab": {
          "base_uri": "https://localhost:8080/"
        },
        "id": "6kQTi8T5RJ7J",
        "outputId": "74da4720-765c-4d41-efb3-c4262e5b2975"
      },
      "execution_count": 13,
      "outputs": [
        {
          "output_type": "execute_result",
          "data": {
            "text/plain": [
              "(2400, 120)"
            ]
          },
          "metadata": {},
          "execution_count": 13
        }
      ]
    },
    {
      "cell_type": "code",
      "source": [
        "print(np.amax(padded_latih))\n",
        "print(np.amax(padded_test))"
      ],
      "metadata": {
        "colab": {
          "base_uri": "https://localhost:8080/"
        },
        "id": "ly82HAJGFi5p",
        "outputId": "2a795565-ca1d-4625-adf7-4df98b7472d0"
      },
      "execution_count": 14,
      "outputs": [
        {
          "output_type": "stream",
          "name": "stdout",
          "text": [
            "12741\n",
            "13999\n"
          ]
        }
      ]
    },
    {
      "cell_type": "code",
      "source": [
        "import tensorflow as tf\n",
        "model = tf.keras.Sequential([\n",
        "    tf.keras.layers.Embedding(14000, 128, input_length=120),\n",
        "    tf.keras.layers.Bidirectional(tf.keras.layers.LSTM(128)),\n",
        "    tf.keras.layers.Dense(128, activation='relu'),\n",
        "    tf.keras.layers.Dropout(0.3, seed=42),\n",
        "    tf.keras.layers.Dense(64, activation='relu'),\n",
        "    tf.keras.layers.Dense(4, activation='softmax')\n",
        "])\n",
        "\n",
        "## Create custom adam optimizers\n",
        "adamoptz = tf.keras.optimizers.Adam(learning_rate=0.001)\n",
        "\n",
        "model.compile(loss='categorical_crossentropy',optimizer=adamoptz,metrics=['accuracy'])"
      ],
      "metadata": {
        "id": "uYRrci4VASQw"
      },
      "execution_count": 15,
      "outputs": []
    },
    {
      "cell_type": "markdown",
      "source": [
        "From my perspective,\n",
        "\n",
        "if the accuracy of neural network training reaches the maximum value,\n",
        "\n",
        "it can be concluded that the model is overfit"
      ],
      "metadata": {
        "id": "Oum7pK3bvRT-"
      }
    },
    {
      "cell_type": "code",
      "source": [
        "## Create custom callbacks for stopping criteria\n",
        "class ValidationMax(tf.keras.callbacks.Callback):\n",
        "    def __init__(self, threshold):\n",
        "        super(ValidationMax, self).__init__()\n",
        "        self.threshold = threshold\n",
        "\n",
        "    def on_epoch_end(self, epoch, logs=None):\n",
        "        val_acc = logs[\"val_accuracy\"]\n",
        "        if val_acc >= self.threshold:\n",
        "            self.model.stop_training = True\n",
        "            print(\"Epoch {}: Stop training because validation accuracy reach more than {}%, validation accuracy = {:7.2f}\".format(epoch+1, (self.threshold * 100), val_acc))\n",
        "        elif logs[\"accuracy\"] >= 1.0:\n",
        "            self.model.stop_training = True\n",
        "            print(\"Epoch {}: Stop training because training accuracy reach max, validation accuracy = {:7.2f}\".format(epoch+1, val_acc))"
      ],
      "metadata": {
        "id": "i7iE8qGdipXq"
      },
      "execution_count": 16,
      "outputs": []
    },
    {
      "cell_type": "code",
      "source": [
        "# Custom learning rate\n",
        "def lr_scheduler(epoch):\n",
        "  return 0.001 * (0.1 ** (epoch // 5))\n",
        "\n",
        "# Define the callback for LR Scheduler\n",
        "lr_schedule = tf.keras.callbacks.LearningRateScheduler(lr_scheduler)"
      ],
      "metadata": {
        "id": "ZHoG5WE6ir69"
      },
      "execution_count": 17,
      "outputs": []
    },
    {
      "cell_type": "code",
      "source": [
        "num_epochs = 50\n",
        "\n",
        "stopmax = ValidationMax(threshold=0.85)\n",
        "\n",
        "history = model.fit(padded_latih, y_latih, batch_size=32, epochs=num_epochs,\n",
        "                    validation_data=(padded_test, y_test), steps_per_epoch=24, verbose=2, callbacks=[stopmax])"
      ],
      "metadata": {
        "colab": {
          "base_uri": "https://localhost:8080/"
        },
        "id": "TW0W9b0zkaxn",
        "outputId": "08d77d74-8621-422a-86c7-5d5139389021"
      },
      "execution_count": 18,
      "outputs": [
        {
          "output_type": "stream",
          "name": "stdout",
          "text": [
            "Epoch 1/50\n",
            "24/24 - 8s - loss: 1.3885 - accuracy: 0.2474 - val_loss: 1.3837 - val_accuracy: 0.2333 - 8s/epoch - 343ms/step\n",
            "Epoch 2/50\n",
            "24/24 - 4s - loss: 1.3303 - accuracy: 0.4141 - val_loss: 1.0782 - val_accuracy: 0.6333 - 4s/epoch - 158ms/step\n",
            "Epoch 3/50\n",
            "24/24 - 4s - loss: 0.9347 - accuracy: 0.6432 - val_loss: 0.7009 - val_accuracy: 0.7150 - 4s/epoch - 167ms/step\n",
            "Epoch 4/50\n",
            "24/24 - 4s - loss: 0.5035 - accuracy: 0.8086 - val_loss: 0.6848 - val_accuracy: 0.7617 - 4s/epoch - 158ms/step\n",
            "Epoch 5/50\n",
            "24/24 - 4s - loss: 0.4484 - accuracy: 0.8451 - val_loss: 0.5942 - val_accuracy: 0.7800 - 4s/epoch - 158ms/step\n",
            "Epoch 6/50\n",
            "24/24 - 4s - loss: 0.3628 - accuracy: 0.8698 - val_loss: 0.6632 - val_accuracy: 0.7683 - 4s/epoch - 167ms/step\n",
            "Epoch 7/50\n",
            "24/24 - 4s - loss: 0.2651 - accuracy: 0.9167 - val_loss: 0.7220 - val_accuracy: 0.7467 - 4s/epoch - 166ms/step\n",
            "Epoch 8/50\n",
            "24/24 - 4s - loss: 0.1515 - accuracy: 0.9505 - val_loss: 0.8106 - val_accuracy: 0.7667 - 4s/epoch - 168ms/step\n",
            "Epoch 9/50\n",
            "24/24 - 4s - loss: 0.1663 - accuracy: 0.9570 - val_loss: 0.6939 - val_accuracy: 0.7900 - 4s/epoch - 180ms/step\n",
            "Epoch 10/50\n",
            "24/24 - 4s - loss: 0.0696 - accuracy: 0.9857 - val_loss: 0.9507 - val_accuracy: 0.7567 - 4s/epoch - 178ms/step\n",
            "Epoch 11/50\n",
            "24/24 - 4s - loss: 0.0571 - accuracy: 0.9870 - val_loss: 0.9468 - val_accuracy: 0.7850 - 4s/epoch - 181ms/step\n",
            "Epoch 12/50\n",
            "24/24 - 4s - loss: 0.0792 - accuracy: 0.9766 - val_loss: 0.8217 - val_accuracy: 0.7550 - 4s/epoch - 172ms/step\n",
            "Epoch 13/50\n",
            "24/24 - 4s - loss: 0.0449 - accuracy: 0.9883 - val_loss: 0.8992 - val_accuracy: 0.7583 - 4s/epoch - 158ms/step\n",
            "Epoch 14/50\n",
            "24/24 - 4s - loss: 0.0345 - accuracy: 0.9909 - val_loss: 0.9517 - val_accuracy: 0.7583 - 4s/epoch - 171ms/step\n",
            "Epoch 15/50\n",
            "24/24 - 4s - loss: 0.0229 - accuracy: 0.9935 - val_loss: 1.1528 - val_accuracy: 0.7733 - 4s/epoch - 183ms/step\n",
            "Epoch 16/50\n",
            "24/24 - 4s - loss: 0.0309 - accuracy: 0.9896 - val_loss: 1.2156 - val_accuracy: 0.7517 - 4s/epoch - 159ms/step\n",
            "Epoch 17/50\n",
            "24/24 - 4s - loss: 0.0101 - accuracy: 0.9974 - val_loss: 1.0818 - val_accuracy: 0.7667 - 4s/epoch - 158ms/step\n",
            "Epoch 18/50\n",
            "24/24 - 4s - loss: 0.0224 - accuracy: 0.9948 - val_loss: 1.1522 - val_accuracy: 0.7833 - 4s/epoch - 167ms/step\n",
            "Epoch 19/50\n",
            "24/24 - 4s - loss: 0.0332 - accuracy: 0.9935 - val_loss: 1.1711 - val_accuracy: 0.6983 - 4s/epoch - 158ms/step\n",
            "Epoch 20/50\n",
            "24/24 - 4s - loss: 0.0474 - accuracy: 0.9909 - val_loss: 0.8570 - val_accuracy: 0.7883 - 4s/epoch - 159ms/step\n",
            "Epoch 21/50\n",
            "24/24 - 4s - loss: 0.0232 - accuracy: 0.9948 - val_loss: 1.0350 - val_accuracy: 0.7700 - 4s/epoch - 162ms/step\n",
            "Epoch 22/50\n",
            "24/24 - 4s - loss: 0.0171 - accuracy: 0.9948 - val_loss: 0.8601 - val_accuracy: 0.8050 - 4s/epoch - 162ms/step\n",
            "Epoch 23/50\n",
            "24/24 - 4s - loss: 0.0332 - accuracy: 0.9961 - val_loss: 1.0632 - val_accuracy: 0.7667 - 4s/epoch - 158ms/step\n",
            "Epoch 24/50\n",
            "Epoch 24: Stop training because training accuracy reach max, validation accuracy =    0.80\n",
            "24/24 - 4s - loss: 0.0036 - accuracy: 1.0000 - val_loss: 0.9392 - val_accuracy: 0.7983 - 4s/epoch - 173ms/step\n"
          ]
        }
      ]
    },
    {
      "cell_type": "code",
      "source": [
        "import matplotlib.pyplot as plt\n",
        "\n",
        "# Create a subplot\n",
        "fig, (ax1, ax2) = plt.subplots(2, 1, figsize=(10, 8))\n",
        "\n",
        "# Plot the training and validation accuracy on the first subplot\n",
        "ax1.set_title(\"History accuracy\")\n",
        "ax1.plot(history.history['accuracy'], label='train_acc')\n",
        "ax1.plot(history.history['val_accuracy'], label='val_acc')\n",
        "ax1.legend()\n",
        "ax1.set_xlabel('Epoch')\n",
        "ax1.set_ylabel('Accuracy')\n",
        "\n",
        "# Plot the training and validation loss on the second subplot\n",
        "ax2.set_title(\"History loss\")\n",
        "ax2.plot(history.history['loss'], label='train_loss')\n",
        "ax2.plot(history.history['val_loss'], label='val_loss')\n",
        "ax2.legend()\n",
        "ax2.set_xlabel('Epoch')\n",
        "ax2.set_ylabel('Loss')\n",
        "\n",
        "# Show the plot\n",
        "plt.tight_layout()\n",
        "plt.show()"
      ],
      "metadata": {
        "id": "CnStCAgGlGW-",
        "colab": {
          "base_uri": "https://localhost:8080/",
          "height": 807
        },
        "outputId": "29cc860e-20b2-4d5e-cc21-627ce2cc099d"
      },
      "execution_count": 19,
      "outputs": [
        {
          "output_type": "display_data",
          "data": {
            "text/plain": [
              "<Figure size 1000x800 with 2 Axes>"
            ],
            "image/png": "[encoded data removed]"
          },
          "metadata": {}
        }
      ]
    },
    {
      "cell_type": "code",
      "source": [],
      "metadata": {
        "id": "NceY7v1Bv6NK"
      },
      "execution_count": 19,
      "outputs": []
    }
  ]
}