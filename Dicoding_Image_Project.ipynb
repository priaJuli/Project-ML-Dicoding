{
  "nbformat": 4,
  "nbformat_minor": 0,
  "metadata": {
    "colab": {
      "provenance": [],
      "machine_shape": "hm",
      "authorship_tag": "ABX9TyPWPLsIVkPtwIqqd1H6M+co",
      "include_colab_link": true
    },
    "kernelspec": {
      "name": "python3",
      "display_name": "Python 3"
    },
    "language_info": {
      "name": "python"
    }
  },
  "cells": [
    {
      "cell_type": "markdown",
      "metadata": {
        "id": "view-in-github",
        "colab_type": "text"
      },
      "source": [
        "<a href=\"https://colab.research.google.com/github/priaJuli/Project-ML-Dicoding/blob/master/Dicoding_Image_Project.ipynb\" target=\"_parent\"><img src=\"https://colab.research.google.com/assets/colab-badge.svg\" alt=\"Open In Colab\"/></a>"
      ]
    },
    {
      "cell_type": "markdown",
      "source": [
        "Data Diri :\n",
        "\n",
        "Nama Lengkap : # # MALAU\n",
        "\n",
        "Username : #\n",
        "\n",
        "email : #\n",
        "\n",
        "Headline : # MALAU, M.Kom"
      ],
      "metadata": {
        "id": "ibBgwsNI0TXo"
      }
    },
    {
      "cell_type": "code",
      "source": [
        "import zipfile,os\n",
        "\n",
        "datasetpath = '/content/rockpaperscissors.zip'\n",
        "\n",
        "if not os.path.isfile(datasetpath):\n",
        "    !wget \"https://github.com/dicodingacademy/assets/releases/download/release/rockpaperscissors.zip\""
      ],
      "metadata": {
        "id": "m9HkMTbnC9Iz"
      },
      "execution_count": null,
      "outputs": []
    },
    {
      "cell_type": "code",
      "source": [
        "zip_ref = zipfile.ZipFile(datasetpath, 'r')\n",
        "zip_ref.extractall('/content/tmp/')\n",
        "zip_ref.close()"
      ],
      "metadata": {
        "id": "Fwjpvf72-A4E"
      },
      "execution_count": null,
      "outputs": []
    },
    {
      "cell_type": "code",
      "source": [
        "import shutil\n",
        "shutil.rmtree('/content/tmp/rockpaperscissors/rps-cv-images/')"
      ],
      "metadata": {
        "id": "nbCEyv5fAMu_"
      },
      "execution_count": null,
      "outputs": []
    },
    {
      "cell_type": "code",
      "source": [
        "os.remove(\"/content/tmp/rockpaperscissors/README_rpc-cv-images.txt\")"
      ],
      "metadata": {
        "id": "lvdnLLbqAd1Y"
      },
      "execution_count": null,
      "outputs": []
    },
    {
      "cell_type": "code",
      "source": [
        "base_dir = '/content/tmp/rockpaperscissors'\n",
        "os.listdir(base_dir)"
      ],
      "metadata": {
        "colab": {
          "base_uri": "https://localhost:8080/"
        },
        "id": "HEtBgUpH-0HI",
        "outputId": "28a1477c-34a3-4e96-bbc1-fb53c29a7ffb"
      },
      "execution_count": null,
      "outputs": [
        {
          "output_type": "execute_result",
          "data": {
            "text/plain": [
              "['rock', 'scissors', 'paper']"
            ]
          },
          "metadata": {},
          "execution_count": 5
        }
      ]
    },
    {
      "cell_type": "markdown",
      "source": [
        "Augmentation image used :  \n",
        "\n",
        "1. Rotation images\n",
        "2. Horizontal flip\n",
        "\n",
        "\n",
        "Class mode : Categorical"
      ],
      "metadata": {
        "id": "6ScHchFt117Y"
      }
    },
    {
      "cell_type": "code",
      "source": [
        "from tensorflow.keras.preprocessing.image import ImageDataGenerator\n",
        "\n",
        "class MyImageGenerator:\n",
        "    def __init__(self, base_dir, split_ratio, targetsize):\n",
        "        self.base_dir = base_dir\n",
        "        self.split_ratio = split_ratio\n",
        "        self.targetsize = targetsize\n",
        "\n",
        "    def get_train_test(self):\n",
        "        datagen = ImageDataGenerator(\n",
        "                        rescale=1./255,\n",
        "                        rotation_range=20,  # Random rotation\n",
        "                        # zoom_range=0.2,  # Random zoom\n",
        "                        horizontal_flip=True,  # Random horizontal flip\n",
        "                        validation_split=self.split_ratio)\n",
        "        train_generator = datagen.flow_from_directory(\n",
        "                  self.base_dir,\n",
        "                  target_size=self.targetsize,\n",
        "                  batch_size=32,\n",
        "                  class_mode='categorical',\n",
        "                  shuffle=True,\n",
        "                  subset='training')\n",
        "\n",
        "        test_generator = datagen.flow_from_directory(\n",
        "                  self.base_dir,\n",
        "                  target_size=self.targetsize,\n",
        "                  batch_size=32,\n",
        "                  class_mode='categorical',\n",
        "                  shuffle=True,\n",
        "                  subset='validation'\n",
        "                  )\n",
        "        return train_generator, test_generator"
      ],
      "metadata": {
        "id": "VFG6k4cyDKs4"
      },
      "execution_count": null,
      "outputs": []
    },
    {
      "cell_type": "markdown",
      "source": [
        "Create Class Custom Image Generator with validation rate 0.4 and resize to 64, 64"
      ],
      "metadata": {
        "id": "RC0EJY7a2IEQ"
      }
    },
    {
      "cell_type": "code",
      "source": [
        "generator = MyImageGenerator(base_dir, 0.4, (64, 64))"
      ],
      "metadata": {
        "id": "5mq4-ZE9hfxk"
      },
      "execution_count": null,
      "outputs": []
    },
    {
      "cell_type": "code",
      "source": [
        "train_generator, test_generator = generator.get_train_test()"
      ],
      "metadata": {
        "colab": {
          "base_uri": "https://localhost:8080/"
        },
        "id": "auOkVCgBDjMN",
        "outputId": "a8baa424-0f27-43d7-acfe-007d42e191a9"
      },
      "execution_count": null,
      "outputs": [
        {
          "output_type": "stream",
          "name": "stdout",
          "text": [
            "Found 1314 images belonging to 3 classes.\n",
            "Found 874 images belonging to 3 classes.\n"
          ]
        }
      ]
    },
    {
      "cell_type": "code",
      "source": [
        "classnames = {v: k for k, v in test_generator.class_indices.items()}"
      ],
      "metadata": {
        "id": "jaFYkVoYBeQQ"
      },
      "execution_count": null,
      "outputs": []
    },
    {
      "cell_type": "code",
      "source": [
        "print(test_generator.n)\n",
        "print(train_generator.n)"
      ],
      "metadata": {
        "colab": {
          "base_uri": "https://localhost:8080/"
        },
        "id": "EzapHpYORdOg",
        "outputId": "65da6ce5-46da-41aa-f22d-3d5ab2e7012a"
      },
      "execution_count": null,
      "outputs": [
        {
          "output_type": "stream",
          "name": "stdout",
          "text": [
            "874\n",
            "1314\n"
          ]
        }
      ]
    },
    {
      "cell_type": "code",
      "source": [
        "print(len(test_generator[0][1]))\n"
      ],
      "metadata": {
        "colab": {
          "base_uri": "https://localhost:8080/"
        },
        "id": "65RUV6G6VS9g",
        "outputId": "8fe7c39a-f57d-4d2c-9f4d-693340e16e7f"
      },
      "execution_count": null,
      "outputs": [
        {
          "output_type": "stream",
          "name": "stdout",
          "text": [
            "32\n"
          ]
        }
      ]
    },
    {
      "cell_type": "markdown",
      "source": [
        "In order to generalize or improve accuracy, Convolution, MaxPooling, and Dropout is used"
      ],
      "metadata": {
        "id": "q-hV2iRR2W61"
      }
    },
    {
      "cell_type": "code",
      "source": [
        "import tensorflow as tf\n",
        "\n",
        "model = tf.keras.models.Sequential([\n",
        "    tf.keras.layers.Conv2D(16, (3,3), activation='relu', input_shape=(64, 64, 3)),\n",
        "    tf.keras.layers.MaxPooling2D(2, 2),\n",
        "    tf.keras.layers.Dropout(0.4),\n",
        "    tf.keras.layers.Conv2D(32, (3,3), activation='relu'),\n",
        "    tf.keras.layers.MaxPooling2D(2,2),\n",
        "    tf.keras.layers.Dropout(0.4),\n",
        "    tf.keras.layers.Conv2D(64, (3,3), activation='relu'),\n",
        "    tf.keras.layers.MaxPooling2D(2,2),\n",
        "    tf.keras.layers.Dropout(0.4),\n",
        "    tf.keras.layers.Flatten(),\n",
        "    tf.keras.layers.Dense(16, activation='relu'),\n",
        "    tf.keras.layers.Dense(3, activation='softmax')\n",
        "])"
      ],
      "metadata": {
        "id": "oKNJ7KBbD2-q"
      },
      "execution_count": null,
      "outputs": []
    },
    {
      "cell_type": "code",
      "source": [
        "model.summary()\n"
      ],
      "metadata": {
        "id": "UPyKqtbzGjlJ",
        "colab": {
          "base_uri": "https://localhost:8080/"
        },
        "outputId": "e4ece275-5bcb-4703-931c-5a68bbdf47eb"
      },
      "execution_count": null,
      "outputs": [
        {
          "output_type": "stream",
          "name": "stdout",
          "text": [
            "Model: \"sequential\"\n",
            "_________________________________________________________________\n",
            " Layer (type)                Output Shape              Param #   \n",
            "=================================================================\n",
            " conv2d (Conv2D)             (None, 62, 62, 16)        448       \n",
            "                                                                 \n",
            " max_pooling2d (MaxPooling2  (None, 31, 31, 16)        0         \n",
            " D)                                                              \n",
            "                                                                 \n",
            " dropout (Dropout)           (None, 31, 31, 16)        0         \n",
            "                                                                 \n",
            " conv2d_1 (Conv2D)           (None, 29, 29, 32)        4640      \n",
            "                                                                 \n",
            " max_pooling2d_1 (MaxPoolin  (None, 14, 14, 32)        0         \n",
            " g2D)                                                            \n",
            "                                                                 \n",
            " dropout_1 (Dropout)         (None, 14, 14, 32)        0         \n",
            "                                                                 \n",
            " conv2d_2 (Conv2D)           (None, 12, 12, 64)        18496     \n",
            "                                                                 \n",
            " max_pooling2d_2 (MaxPoolin  (None, 6, 6, 64)          0         \n",
            " g2D)                                                            \n",
            "                                                                 \n",
            " dropout_2 (Dropout)         (None, 6, 6, 64)          0         \n",
            "                                                                 \n",
            " flatten (Flatten)           (None, 2304)              0         \n",
            "                                                                 \n",
            " dense (Dense)               (None, 16)                36880     \n",
            "                                                                 \n",
            " dense_1 (Dense)             (None, 3)                 51        \n",
            "                                                                 \n",
            "=================================================================\n",
            "Total params: 60515 (236.39 KB)\n",
            "Trainable params: 60515 (236.39 KB)\n",
            "Non-trainable params: 0 (0.00 Byte)\n",
            "_________________________________________________________________\n"
          ]
        }
      ]
    },
    {
      "cell_type": "code",
      "source": [
        "model.compile(optimizer='sgd',  # Optimizer\n",
        "              loss='categorical_crossentropy',  # Categorical cross-entropy loss for multi-class classification\n",
        "              metrics=['accuracy'])\n",
        "\n",
        "class ValidationMax(tf.keras.callbacks.Callback):\n",
        "    def __init__(self, threshold):\n",
        "        super(ValidationMax, self).__init__()\n",
        "        self.threshold = threshold\n",
        "\n",
        "    def on_epoch_end(self, epoch, logs=None):\n",
        "        val_acc = logs[\"val_accuracy\"]\n",
        "        if val_acc >= self.threshold:\n",
        "            self.model.stop_training = True\n",
        "            print(\"Epoch {}: Stop training because validation accuracy reach more than {}%, validation accuracy = {:7.2f}\".format(epoch+1, (self.threshold * 100), val_acc))"
      ],
      "metadata": {
        "id": "8Sw11GrKEQKn"
      },
      "execution_count": null,
      "outputs": []
    },
    {
      "cell_type": "markdown",
      "source": [
        "Create Custom Classback for stop iteration for training when validation accuracy more than threshold parameter.\n",
        "\n",
        "Train the model up to 150 epochs."
      ],
      "metadata": {
        "id": "3vZhDW2-2hJs"
      }
    },
    {
      "cell_type": "code",
      "source": [
        "stopmax = ValidationMax(threshold=0.94)\n",
        "\n",
        "model.fit(\n",
        "      train_generator,\n",
        "      batch_size=32,\n",
        "      epochs=150,\n",
        "      validation_data=test_generator,\n",
        "      steps_per_epoch=24,\n",
        "      verbose=2,\n",
        "      callbacks=[stopmax])"
      ],
      "metadata": {
        "colab": {
          "base_uri": "https://localhost:8080/"
        },
        "id": "O84tu3oIET1w",
        "outputId": "a643c341-85ae-44da-f468-21b283f7ccb6"
      },
      "execution_count": null,
      "outputs": [
        {
          "output_type": "stream",
          "name": "stdout",
          "text": [
            "Epoch 1/150\n",
            "24/24 - 8s - loss: 1.1073 - accuracy: 0.3577 - val_loss: 1.0947 - val_accuracy: 0.3364 - 8s/epoch - 343ms/step\n",
            "Epoch 2/150\n",
            "24/24 - 7s - loss: 1.1029 - accuracy: 0.3659 - val_loss: 1.0944 - val_accuracy: 0.3467 - 7s/epoch - 284ms/step\n",
            "Epoch 3/150\n",
            "24/24 - 7s - loss: 1.1050 - accuracy: 0.3581 - val_loss: 1.0944 - val_accuracy: 0.4851 - 7s/epoch - 297ms/step\n",
            "Epoch 4/150\n",
            "24/24 - 8s - loss: 1.1020 - accuracy: 0.3252 - val_loss: 1.0961 - val_accuracy: 0.3455 - 8s/epoch - 348ms/step\n",
            "Epoch 5/150\n",
            "24/24 - 7s - loss: 1.0862 - accuracy: 0.3841 - val_loss: 1.0927 - val_accuracy: 0.4005 - 7s/epoch - 288ms/step\n",
            "Epoch 6/150\n",
            "24/24 - 7s - loss: 1.0872 - accuracy: 0.3930 - val_loss: 1.0901 - val_accuracy: 0.4714 - 7s/epoch - 285ms/step\n",
            "Epoch 7/150\n",
            "24/24 - 7s - loss: 1.0868 - accuracy: 0.3604 - val_loss: 1.0862 - val_accuracy: 0.5435 - 7s/epoch - 276ms/step\n",
            "Epoch 8/150\n",
            "24/24 - 7s - loss: 1.0771 - accuracy: 0.4106 - val_loss: 1.0826 - val_accuracy: 0.5103 - 7s/epoch - 282ms/step\n",
            "Epoch 9/150\n",
            "24/24 - 7s - loss: 1.0749 - accuracy: 0.4128 - val_loss: 1.0784 - val_accuracy: 0.6899 - 7s/epoch - 291ms/step\n",
            "Epoch 10/150\n",
            "24/24 - 7s - loss: 1.0700 - accuracy: 0.3970 - val_loss: 1.0758 - val_accuracy: 0.4542 - 7s/epoch - 286ms/step\n",
            "Epoch 11/150\n",
            "24/24 - 7s - loss: 1.0516 - accuracy: 0.4580 - val_loss: 1.0665 - val_accuracy: 0.4542 - 7s/epoch - 278ms/step\n",
            "Epoch 12/150\n",
            "24/24 - 7s - loss: 1.0359 - accuracy: 0.4987 - val_loss: 1.0532 - val_accuracy: 0.5686 - 7s/epoch - 292ms/step\n",
            "Epoch 13/150\n",
            "24/24 - 7s - loss: 1.0029 - accuracy: 0.4919 - val_loss: 1.0384 - val_accuracy: 0.5812 - 7s/epoch - 276ms/step\n",
            "Epoch 14/150\n",
            "24/24 - 7s - loss: 0.9778 - accuracy: 0.5469 - val_loss: 1.0203 - val_accuracy: 0.5618 - 7s/epoch - 285ms/step\n",
            "Epoch 15/150\n",
            "24/24 - 7s - loss: 0.9378 - accuracy: 0.5755 - val_loss: 1.0056 - val_accuracy: 0.4519 - 7s/epoch - 290ms/step\n",
            "Epoch 16/150\n",
            "24/24 - 7s - loss: 0.9196 - accuracy: 0.5781 - val_loss: 0.9747 - val_accuracy: 0.5515 - 7s/epoch - 284ms/step\n",
            "Epoch 17/150\n",
            "24/24 - 7s - loss: 0.9069 - accuracy: 0.5840 - val_loss: 0.9445 - val_accuracy: 0.6636 - 7s/epoch - 282ms/step\n",
            "Epoch 18/150\n",
            "24/24 - 7s - loss: 0.9053 - accuracy: 0.6043 - val_loss: 0.9473 - val_accuracy: 0.5927 - 7s/epoch - 280ms/step\n",
            "Epoch 19/150\n",
            "24/24 - 7s - loss: 0.8771 - accuracy: 0.6125 - val_loss: 0.9238 - val_accuracy: 0.6602 - 7s/epoch - 278ms/step\n",
            "Epoch 20/150\n",
            "24/24 - 7s - loss: 0.8219 - accuracy: 0.6572 - val_loss: 0.8988 - val_accuracy: 0.6362 - 7s/epoch - 283ms/step\n",
            "Epoch 21/150\n",
            "24/24 - 7s - loss: 0.8208 - accuracy: 0.6680 - val_loss: 0.8624 - val_accuracy: 0.6785 - 7s/epoch - 289ms/step\n",
            "Epoch 22/150\n",
            "24/24 - 7s - loss: 0.8207 - accuracy: 0.6450 - val_loss: 0.8567 - val_accuracy: 0.6476 - 7s/epoch - 280ms/step\n",
            "Epoch 23/150\n",
            "24/24 - 8s - loss: 0.8184 - accuracy: 0.6721 - val_loss: 0.8748 - val_accuracy: 0.6190 - 8s/epoch - 346ms/step\n",
            "Epoch 24/150\n",
            "24/24 - 7s - loss: 0.7636 - accuracy: 0.7046 - val_loss: 0.8562 - val_accuracy: 0.6270 - 7s/epoch - 285ms/step\n",
            "Epoch 25/150\n",
            "24/24 - 8s - loss: 0.7341 - accuracy: 0.7161 - val_loss: 0.7879 - val_accuracy: 0.7162 - 8s/epoch - 350ms/step\n",
            "Epoch 26/150\n",
            "24/24 - 7s - loss: 0.7363 - accuracy: 0.7060 - val_loss: 0.7873 - val_accuracy: 0.7140 - 7s/epoch - 281ms/step\n",
            "Epoch 27/150\n",
            "24/24 - 8s - loss: 0.6942 - accuracy: 0.7266 - val_loss: 0.7252 - val_accuracy: 0.7563 - 8s/epoch - 351ms/step\n",
            "Epoch 28/150\n",
            "24/24 - 7s - loss: 0.6982 - accuracy: 0.7070 - val_loss: 0.7683 - val_accuracy: 0.6899 - 7s/epoch - 286ms/step\n",
            "Epoch 29/150\n",
            "24/24 - 7s - loss: 0.6762 - accuracy: 0.7344 - val_loss: 0.7327 - val_accuracy: 0.7220 - 7s/epoch - 286ms/step\n",
            "Epoch 30/150\n",
            "24/24 - 8s - loss: 0.7028 - accuracy: 0.7100 - val_loss: 0.7491 - val_accuracy: 0.6899 - 8s/epoch - 346ms/step\n",
            "Epoch 31/150\n",
            "24/24 - 7s - loss: 0.7058 - accuracy: 0.7005 - val_loss: 0.7527 - val_accuracy: 0.7300 - 7s/epoch - 281ms/step\n",
            "Epoch 32/150\n",
            "24/24 - 7s - loss: 0.7045 - accuracy: 0.7195 - val_loss: 0.7158 - val_accuracy: 0.7803 - 7s/epoch - 279ms/step\n",
            "Epoch 33/150\n",
            "24/24 - 7s - loss: 0.6541 - accuracy: 0.7412 - val_loss: 0.6593 - val_accuracy: 0.8101 - 7s/epoch - 284ms/step\n",
            "Epoch 34/150\n",
            "24/24 - 7s - loss: 0.6090 - accuracy: 0.7643 - val_loss: 0.6489 - val_accuracy: 0.8055 - 7s/epoch - 284ms/step\n",
            "Epoch 35/150\n",
            "24/24 - 8s - loss: 0.6497 - accuracy: 0.7474 - val_loss: 0.6976 - val_accuracy: 0.7288 - 8s/epoch - 348ms/step\n",
            "Epoch 36/150\n",
            "24/24 - 8s - loss: 0.6487 - accuracy: 0.7425 - val_loss: 0.6490 - val_accuracy: 0.7826 - 8s/epoch - 346ms/step\n",
            "Epoch 37/150\n",
            "24/24 - 7s - loss: 0.6259 - accuracy: 0.7507 - val_loss: 0.6196 - val_accuracy: 0.8307 - 7s/epoch - 274ms/step\n",
            "Epoch 38/150\n",
            "24/24 - 7s - loss: 0.5722 - accuracy: 0.7799 - val_loss: 0.6268 - val_accuracy: 0.7941 - 7s/epoch - 286ms/step\n",
            "Epoch 39/150\n",
            "24/24 - 7s - loss: 0.6209 - accuracy: 0.7588 - val_loss: 0.6447 - val_accuracy: 0.7780 - 7s/epoch - 274ms/step\n",
            "Epoch 40/150\n",
            "24/24 - 7s - loss: 0.5178 - accuracy: 0.8099 - val_loss: 0.5656 - val_accuracy: 0.8215 - 7s/epoch - 285ms/step\n",
            "Epoch 41/150\n",
            "24/24 - 7s - loss: 0.7165 - accuracy: 0.7575 - val_loss: 0.6439 - val_accuracy: 0.8021 - 7s/epoch - 284ms/step\n",
            "Epoch 42/150\n",
            "24/24 - 8s - loss: 0.5526 - accuracy: 0.8103 - val_loss: 0.5977 - val_accuracy: 0.8135 - 8s/epoch - 345ms/step\n",
            "Epoch 43/150\n",
            "24/24 - 7s - loss: 0.5003 - accuracy: 0.8268 - val_loss: 0.5417 - val_accuracy: 0.8455 - 7s/epoch - 286ms/step\n",
            "Epoch 44/150\n",
            "24/24 - 7s - loss: 0.5082 - accuracy: 0.8117 - val_loss: 0.5372 - val_accuracy: 0.8398 - 7s/epoch - 281ms/step\n",
            "Epoch 45/150\n",
            "24/24 - 7s - loss: 0.5053 - accuracy: 0.8086 - val_loss: 0.5152 - val_accuracy: 0.8455 - 7s/epoch - 284ms/step\n",
            "Epoch 46/150\n",
            "24/24 - 7s - loss: 0.4788 - accuracy: 0.8229 - val_loss: 0.5159 - val_accuracy: 0.8398 - 7s/epoch - 282ms/step\n",
            "Epoch 47/150\n",
            "24/24 - 7s - loss: 0.4844 - accuracy: 0.8266 - val_loss: 0.5155 - val_accuracy: 0.8753 - 7s/epoch - 285ms/step\n",
            "Epoch 48/150\n",
            "24/24 - 8s - loss: 0.4319 - accuracy: 0.8509 - val_loss: 0.4868 - val_accuracy: 0.8810 - 8s/epoch - 347ms/step\n",
            "Epoch 49/150\n",
            "24/24 - 7s - loss: 0.4706 - accuracy: 0.8320 - val_loss: 0.4620 - val_accuracy: 0.8764 - 7s/epoch - 285ms/step\n",
            "Epoch 50/150\n",
            "24/24 - 8s - loss: 0.4152 - accuracy: 0.8516 - val_loss: 0.4714 - val_accuracy: 0.8558 - 8s/epoch - 352ms/step\n",
            "Epoch 51/150\n",
            "24/24 - 7s - loss: 0.4577 - accuracy: 0.8388 - val_loss: 0.4515 - val_accuracy: 0.8787 - 7s/epoch - 284ms/step\n",
            "Epoch 52/150\n",
            "24/24 - 7s - loss: 0.4279 - accuracy: 0.8415 - val_loss: 0.4221 - val_accuracy: 0.8993 - 7s/epoch - 282ms/step\n",
            "Epoch 53/150\n",
            "24/24 - 7s - loss: 0.3747 - accuracy: 0.8780 - val_loss: 0.4057 - val_accuracy: 0.9027 - 7s/epoch - 282ms/step\n",
            "Epoch 54/150\n",
            "24/24 - 7s - loss: 0.4027 - accuracy: 0.8550 - val_loss: 0.3938 - val_accuracy: 0.9039 - 7s/epoch - 281ms/step\n",
            "Epoch 55/150\n",
            "24/24 - 7s - loss: 0.4033 - accuracy: 0.8469 - val_loss: 0.4024 - val_accuracy: 0.8970 - 7s/epoch - 280ms/step\n",
            "Epoch 56/150\n",
            "24/24 - 7s - loss: 0.3788 - accuracy: 0.8698 - val_loss: 0.3835 - val_accuracy: 0.9085 - 7s/epoch - 281ms/step\n",
            "Epoch 57/150\n",
            "24/24 - 7s - loss: 0.3581 - accuracy: 0.8568 - val_loss: 0.3953 - val_accuracy: 0.8913 - 7s/epoch - 287ms/step\n",
            "Epoch 58/150\n",
            "24/24 - 7s - loss: 0.3239 - accuracy: 0.8835 - val_loss: 0.3619 - val_accuracy: 0.9039 - 7s/epoch - 284ms/step\n",
            "Epoch 59/150\n",
            "24/24 - 7s - loss: 0.3784 - accuracy: 0.8711 - val_loss: 0.3500 - val_accuracy: 0.9096 - 7s/epoch - 286ms/step\n",
            "Epoch 60/150\n",
            "24/24 - 7s - loss: 0.3361 - accuracy: 0.8753 - val_loss: 0.3622 - val_accuracy: 0.9119 - 7s/epoch - 282ms/step\n",
            "Epoch 61/150\n",
            "24/24 - 7s - loss: 0.3311 - accuracy: 0.8802 - val_loss: 0.3659 - val_accuracy: 0.9062 - 7s/epoch - 290ms/step\n",
            "Epoch 62/150\n",
            "24/24 - 7s - loss: 0.3302 - accuracy: 0.8794 - val_loss: 0.3501 - val_accuracy: 0.9142 - 7s/epoch - 284ms/step\n",
            "Epoch 63/150\n",
            "24/24 - 7s - loss: 0.3079 - accuracy: 0.8880 - val_loss: 0.3467 - val_accuracy: 0.9005 - 7s/epoch - 290ms/step\n",
            "Epoch 64/150\n",
            "24/24 - 7s - loss: 0.3453 - accuracy: 0.8767 - val_loss: 0.3961 - val_accuracy: 0.8707 - 7s/epoch - 280ms/step\n",
            "Epoch 65/150\n",
            "24/24 - 7s - loss: 0.3444 - accuracy: 0.8753 - val_loss: 0.3572 - val_accuracy: 0.8947 - 7s/epoch - 281ms/step\n",
            "Epoch 66/150\n",
            "24/24 - 7s - loss: 0.3170 - accuracy: 0.8902 - val_loss: 0.3527 - val_accuracy: 0.9062 - 7s/epoch - 279ms/step\n",
            "Epoch 67/150\n",
            "24/24 - 7s - loss: 0.3389 - accuracy: 0.8699 - val_loss: 0.3372 - val_accuracy: 0.9096 - 7s/epoch - 282ms/step\n",
            "Epoch 68/150\n",
            "24/24 - 7s - loss: 0.3234 - accuracy: 0.8854 - val_loss: 0.3375 - val_accuracy: 0.9188 - 7s/epoch - 288ms/step\n",
            "Epoch 69/150\n",
            "24/24 - 8s - loss: 0.2954 - accuracy: 0.8835 - val_loss: 0.3392 - val_accuracy: 0.9050 - 8s/epoch - 347ms/step\n",
            "Epoch 70/150\n",
            "24/24 - 8s - loss: 0.3364 - accuracy: 0.8698 - val_loss: 0.3581 - val_accuracy: 0.8959 - 8s/epoch - 347ms/step\n",
            "Epoch 71/150\n",
            "24/24 - 7s - loss: 0.2769 - accuracy: 0.9011 - val_loss: 0.3095 - val_accuracy: 0.9153 - 7s/epoch - 284ms/step\n",
            "Epoch 72/150\n",
            "24/24 - 7s - loss: 0.3677 - accuracy: 0.8821 - val_loss: 0.3321 - val_accuracy: 0.9348 - 7s/epoch - 284ms/step\n",
            "Epoch 73/150\n",
            "24/24 - 7s - loss: 0.3220 - accuracy: 0.8794 - val_loss: 0.3289 - val_accuracy: 0.9302 - 7s/epoch - 285ms/step\n",
            "Epoch 74/150\n",
            "24/24 - 8s - loss: 0.2715 - accuracy: 0.9049 - val_loss: 0.3133 - val_accuracy: 0.9279 - 8s/epoch - 352ms/step\n",
            "Epoch 75/150\n",
            "24/24 - 7s - loss: 0.3154 - accuracy: 0.8841 - val_loss: 0.2928 - val_accuracy: 0.9382 - 7s/epoch - 284ms/step\n",
            "Epoch 76/150\n",
            "24/24 - 7s - loss: 0.2504 - accuracy: 0.9241 - val_loss: 0.3091 - val_accuracy: 0.9130 - 7s/epoch - 279ms/step\n",
            "Epoch 77/150\n",
            "24/24 - 8s - loss: 0.2545 - accuracy: 0.9106 - val_loss: 0.2828 - val_accuracy: 0.9291 - 8s/epoch - 344ms/step\n",
            "Epoch 78/150\n",
            "24/24 - 7s - loss: 0.2509 - accuracy: 0.9119 - val_loss: 0.3035 - val_accuracy: 0.9222 - 7s/epoch - 282ms/step\n",
            "Epoch 79/150\n",
            "24/24 - 7s - loss: 0.2366 - accuracy: 0.9146 - val_loss: 0.2978 - val_accuracy: 0.9153 - 7s/epoch - 279ms/step\n",
            "Epoch 80/150\n",
            "24/24 - 7s - loss: 0.2302 - accuracy: 0.9167 - val_loss: 0.2643 - val_accuracy: 0.9291 - 7s/epoch - 287ms/step\n",
            "Epoch 81/150\n",
            "24/24 - 7s - loss: 0.2835 - accuracy: 0.9024 - val_loss: 0.2728 - val_accuracy: 0.9291 - 7s/epoch - 279ms/step\n",
            "Epoch 82/150\n",
            "24/24 - 7s - loss: 0.2305 - accuracy: 0.9167 - val_loss: 0.2796 - val_accuracy: 0.9188 - 7s/epoch - 284ms/step\n",
            "Epoch 83/150\n",
            "24/24 - 7s - loss: 0.2619 - accuracy: 0.9146 - val_loss: 0.2760 - val_accuracy: 0.9256 - 7s/epoch - 280ms/step\n",
            "Epoch 84/150\n",
            "24/24 - 7s - loss: 0.2597 - accuracy: 0.9102 - val_loss: 0.2796 - val_accuracy: 0.9176 - 7s/epoch - 290ms/step\n",
            "Epoch 85/150\n",
            "24/24 - 7s - loss: 0.2806 - accuracy: 0.8970 - val_loss: 0.2928 - val_accuracy: 0.9176 - 7s/epoch - 282ms/step\n",
            "Epoch 86/150\n",
            "24/24 - 7s - loss: 0.2406 - accuracy: 0.9079 - val_loss: 0.2664 - val_accuracy: 0.9336 - 7s/epoch - 281ms/step\n",
            "Epoch 87/150\n",
            "24/24 - 7s - loss: 0.2500 - accuracy: 0.8971 - val_loss: 0.3454 - val_accuracy: 0.8913 - 7s/epoch - 283ms/step\n",
            "Epoch 88/150\n",
            "24/24 - 7s - loss: 0.2528 - accuracy: 0.9038 - val_loss: 0.2811 - val_accuracy: 0.9256 - 7s/epoch - 286ms/step\n",
            "Epoch 89/150\n",
            "24/24 - 8s - loss: 0.3445 - accuracy: 0.8916 - val_loss: 0.3102 - val_accuracy: 0.9268 - 8s/epoch - 345ms/step\n",
            "Epoch 90/150\n",
            "24/24 - 7s - loss: 0.2621 - accuracy: 0.9146 - val_loss: 0.2957 - val_accuracy: 0.9268 - 7s/epoch - 279ms/step\n",
            "Epoch 91/150\n",
            "24/24 - 8s - loss: 0.2294 - accuracy: 0.9133 - val_loss: 0.2928 - val_accuracy: 0.9211 - 8s/epoch - 346ms/step\n",
            "Epoch 92/150\n",
            "24/24 - 8s - loss: 0.2389 - accuracy: 0.9219 - val_loss: 0.2864 - val_accuracy: 0.9199 - 8s/epoch - 348ms/step\n",
            "Epoch 93/150\n",
            "24/24 - 7s - loss: 0.2880 - accuracy: 0.8970 - val_loss: 0.2885 - val_accuracy: 0.9130 - 7s/epoch - 282ms/step\n",
            "Epoch 94/150\n",
            "24/24 - 7s - loss: 0.2139 - accuracy: 0.9309 - val_loss: 0.2843 - val_accuracy: 0.9188 - 7s/epoch - 283ms/step\n",
            "Epoch 95/150\n",
            "24/24 - 7s - loss: 0.2144 - accuracy: 0.9206 - val_loss: 0.2841 - val_accuracy: 0.9085 - 7s/epoch - 287ms/step\n",
            "Epoch 96/150\n",
            "24/24 - 7s - loss: 0.1938 - accuracy: 0.9336 - val_loss: 0.2484 - val_accuracy: 0.9325 - 7s/epoch - 281ms/step\n",
            "Epoch 97/150\n",
            "24/24 - 7s - loss: 0.2181 - accuracy: 0.9193 - val_loss: 0.2633 - val_accuracy: 0.9291 - 7s/epoch - 284ms/step\n",
            "Epoch 98/150\n",
            "24/24 - 7s - loss: 0.2715 - accuracy: 0.8957 - val_loss: 0.3326 - val_accuracy: 0.9062 - 7s/epoch - 281ms/step\n",
            "Epoch 99/150\n",
            "24/24 - 7s - loss: 0.2298 - accuracy: 0.9193 - val_loss: 0.2665 - val_accuracy: 0.9394 - 7s/epoch - 282ms/step\n",
            "Epoch 100/150\n",
            "24/24 - 7s - loss: 0.2155 - accuracy: 0.9187 - val_loss: 0.2524 - val_accuracy: 0.9371 - 7s/epoch - 282ms/step\n",
            "Epoch 101/150\n",
            "24/24 - 7s - loss: 0.2066 - accuracy: 0.9349 - val_loss: 0.2796 - val_accuracy: 0.9233 - 7s/epoch - 284ms/step\n",
            "Epoch 102/150\n",
            "24/24 - 7s - loss: 0.2258 - accuracy: 0.9245 - val_loss: 0.2693 - val_accuracy: 0.9371 - 7s/epoch - 286ms/step\n",
            "Epoch 103/150\n",
            "24/24 - 7s - loss: 0.1918 - accuracy: 0.9219 - val_loss: 0.2617 - val_accuracy: 0.9371 - 7s/epoch - 281ms/step\n",
            "Epoch 104/150\n",
            "24/24 - 7s - loss: 0.1989 - accuracy: 0.9310 - val_loss: 0.2839 - val_accuracy: 0.9302 - 7s/epoch - 287ms/step\n",
            "Epoch 105/150\n",
            "24/24 - 7s - loss: 0.1875 - accuracy: 0.9336 - val_loss: 0.2600 - val_accuracy: 0.9302 - 7s/epoch - 278ms/step\n",
            "Epoch 106/150\n",
            "24/24 - 7s - loss: 0.1835 - accuracy: 0.9228 - val_loss: 0.2353 - val_accuracy: 0.9394 - 7s/epoch - 283ms/step\n",
            "Epoch 107/150\n",
            "Epoch 107: Stop training because validation accuracy reach more than 94.0%, validation accuracy =    0.94\n",
            "24/24 - 7s - loss: 0.2051 - accuracy: 0.9310 - val_loss: 0.2552 - val_accuracy: 0.9428 - 7s/epoch - 284ms/step\n"
          ]
        },
        {
          "output_type": "execute_result",
          "data": {
            "text/plain": [
              "<keras.src.callbacks.History at 0x7ee9ec5db490>"
            ]
          },
          "metadata": {},
          "execution_count": 16
        }
      ]
    },
    {
      "cell_type": "markdown",
      "source": [
        "Stop the training process in epoch 107, which validation accuracy reach more than 94%"
      ],
      "metadata": {
        "id": "EuLQGlFk2zem"
      }
    },
    {
      "cell_type": "markdown",
      "source": [
        "Create last step for upload new unseen data for test the model."
      ],
      "metadata": {
        "id": "ILaKioJt3AgE"
      }
    },
    {
      "cell_type": "code",
      "source": [
        "import numpy as np\n",
        "from google.colab import files\n",
        "from tensorflow.keras.preprocessing import image\n",
        "import matplotlib.pyplot as plt\n",
        "import matplotlib.image as mpimg\n",
        "%matplotlib inline\n",
        "\n",
        "uploaded = files.upload()\n",
        "\n",
        "for fn in uploaded.keys():\n",
        "\n",
        "    # predicting images\n",
        "    path = fn\n",
        "    img = image.load_img(path, target_size=(64,64))\n",
        "\n",
        "    imgplot = plt.imshow(img)\n",
        "    x = image.img_to_array(img)\n",
        "    x = np.expand_dims(x, axis=0)\n",
        "    images = np.vstack([x])\n",
        "    images /= 255\n",
        "\n",
        "    classes = model.predict(images, batch_size=10)\n",
        "    print(fn)\n",
        "    print(\"Class predict = {}\".format(classnames[np.argmax(classes)]))\n",
        "    print(classes)"
      ],
      "metadata": {
        "colab": {
          "base_uri": "https://localhost:8080/",
          "height": 661
        },
        "id": "wNSLu3MUExGf",
        "outputId": "9143367f-9807-4c0c-b3c6-28724fd82629"
      },
      "execution_count": null,
      "outputs": [
        {
          "output_type": "display_data",
          "data": {
            "text/plain": [
              "<IPython.core.display.HTML object>"
            ],
            "text/html": [
              "\n",
              "     <input type=\"file\" id=\"files-7008f877-6146-4b64-b88d-96e16500543a\" name=\"files[]\" multiple disabled\n",
              "        style=\"border:none\" />\n",
              "     <output id=\"result-7008f877-6146-4b64-b88d-96e16500543a\">\n",
              "      Upload widget is only available when the cell has been executed in the\n",
              "      current browser session. Please rerun this cell to enable.\n",
              "      </output>\n",
              "      <script>// Copyright 2017 Google LLC\n",
              "//\n",
              "// Licensed under the Apache License, Version 2.0 (the \"License\");\n",
              "// you may not use this file except in compliance with the License.\n",
              "// You may obtain a copy of the License at\n",
              "//\n",
              "//      http://www.apache.org/licenses/LICENSE-2.0\n",
              "//\n",
              "// Unless required by applicable law or agreed to in writing, software\n",
              "// distributed under the License is distributed on an \"AS IS\" BASIS,\n",
              "// WITHOUT WARRANTIES OR CONDITIONS OF ANY KIND, either express or implied.\n",
              "// See the License for the specific language governing permissions and\n",
              "// limitations under the License.\n",
              "\n",
              "/**\n",
              " * @fileoverview Helpers for google.colab Python module.\n",
              " */\n",
              "(function(scope) {\n",
              "function span(text, styleAttributes = {}) {\n",
              "  const element = document.createElement('span');\n",
              "  element.textContent = text;\n",
              "  for (const key of Object.keys(styleAttributes)) {\n",
              "    element.style[key] = styleAttributes[key];\n",
              "  }\n",
              "  return element;\n",
              "}\n",
              "\n",
              "// Max number of bytes which will be uploaded at a time.\n",
              "const MAX_PAYLOAD_SIZE = 100 * 1024;\n",
              "\n",
              "function _uploadFiles(inputId, outputId) {\n",
              "  const steps = uploadFilesStep(inputId, outputId);\n",
              "  const outputElement = document.getElementById(outputId);\n",
              "  // Cache steps on the outputElement to make it available for the next call\n",
              "  // to uploadFilesContinue from Python.\n",
              "  outputElement.steps = steps;\n",
              "\n",
              "  return _uploadFilesContinue(outputId);\n",
              "}\n",
              "\n",
              "// This is roughly an async generator (not supported in the browser yet),\n",
              "// where there are multiple asynchronous steps and the Python side is going\n",
              "// to poll for completion of each step.\n",
              "// This uses a Promise to block the python side on completion of each step,\n",
              "// then passes the result of the previous step as the input to the next step.\n",
              "function _uploadFilesContinue(outputId) {\n",
              "  const outputElement = document.getElementById(outputId);\n",
              "  const steps = outputElement.steps;\n",
              "\n",
              "  const next = steps.next(outputElement.lastPromiseValue);\n",
              "  return Promise.resolve(next.value.promise).then((value) => {\n",
              "    // Cache the last promise value to make it available to the next\n",
              "    // step of the generator.\n",
              "    outputElement.lastPromiseValue = value;\n",
              "    return next.value.response;\n",
              "  });\n",
              "}\n",
              "\n",
              "/**\n",
              " * Generator function which is called between each async step of the upload\n",
              " * process.\n",
              " * @param {string} inputId Element ID of the input file picker element.\n",
              " * @param {string} outputId Element ID of the output display.\n",
              " * @return {!Iterable<!Object>} Iterable of next steps.\n",
              " */\n",
              "function* uploadFilesStep(inputId, outputId) {\n",
              "  const inputElement = document.getElementById(inputId);\n",
              "  inputElement.disabled = false;\n",
              "\n",
              "  const outputElement = document.getElementById(outputId);\n",
              "  outputElement.innerHTML = '';\n",
              "\n",
              "  const pickedPromise = new Promise((resolve) => {\n",
              "    inputElement.addEventListener('change', (e) => {\n",
              "      resolve(e.target.files);\n",
              "    });\n",
              "  });\n",
              "\n",
              "  const cancel = document.createElement('button');\n",
              "  inputElement.parentElement.appendChild(cancel);\n",
              "  cancel.textContent = 'Cancel upload';\n",
              "  const cancelPromise = new Promise((resolve) => {\n",
              "    cancel.onclick = () => {\n",
              "      resolve(null);\n",
              "    };\n",
              "  });\n",
              "\n",
              "  // Wait for the user to pick the files.\n",
              "  const files = yield {\n",
              "    promise: Promise.race([pickedPromise, cancelPromise]),\n",
              "    response: {\n",
              "      action: 'starting',\n",
              "    }\n",
              "  };\n",
              "\n",
              "  cancel.remove();\n",
              "\n",
              "  // Disable the input element since further picks are not allowed.\n",
              "  inputElement.disabled = true;\n",
              "\n",
              "  if (!files) {\n",
              "    return {\n",
              "      response: {\n",
              "        action: 'complete',\n",
              "      }\n",
              "    };\n",
              "  }\n",
              "\n",
              "  for (const file of files) {\n",
              "    const li = document.createElement('li');\n",
              "    li.append(span(file.name, {fontWeight: 'bold'}));\n",
              "    li.append(span(\n",
              "        `(${file.type || 'n/a'}) - ${file.size} bytes, ` +\n",
              "        `last modified: ${\n",
              "            file.lastModifiedDate ? file.lastModifiedDate.toLocaleDateString() :\n",
              "                                    'n/a'} - `));\n",
              "    const percent = span('0% done');\n",
              "    li.appendChild(percent);\n",
              "\n",
              "    outputElement.appendChild(li);\n",
              "\n",
              "    const fileDataPromise = new Promise((resolve) => {\n",
              "      const reader = new FileReader();\n",
              "      reader.onload = (e) => {\n",
              "        resolve(e.target.result);\n",
              "      };\n",
              "      reader.readAsArrayBuffer(file);\n",
              "    });\n",
              "    // Wait for the data to be ready.\n",
              "    let fileData = yield {\n",
              "      promise: fileDataPromise,\n",
              "      response: {\n",
              "        action: 'continue',\n",
              "      }\n",
              "    };\n",
              "\n",
              "    // Use a chunked sending to avoid message size limits. See b/62115660.\n",
              "    let position = 0;\n",
              "    do {\n",
              "      const length = Math.min(fileData.byteLength - position, MAX_PAYLOAD_SIZE);\n",
              "      const chunk = new Uint8Array(fileData, position, length);\n",
              "      position += length;\n",
              "\n",
              "      const base64 = btoa(String.fromCharCode.apply(null, chunk));\n",
              "      yield {\n",
              "        response: {\n",
              "          action: 'append',\n",
              "          file: file.name,\n",
              "          data: base64,\n",
              "        },\n",
              "      };\n",
              "\n",
              "      let percentDone = fileData.byteLength === 0 ?\n",
              "          100 :\n",
              "          Math.round((position / fileData.byteLength) * 100);\n",
              "      percent.textContent = `${percentDone}% done`;\n",
              "\n",
              "    } while (position < fileData.byteLength);\n",
              "  }\n",
              "\n",
              "  // All done.\n",
              "  yield {\n",
              "    response: {\n",
              "      action: 'complete',\n",
              "    }\n",
              "  };\n",
              "}\n",
              "\n",
              "scope.google = scope.google || {};\n",
              "scope.google.colab = scope.google.colab || {};\n",
              "scope.google.colab._files = {\n",
              "  _uploadFiles,\n",
              "  _uploadFilesContinue,\n",
              "};\n",
              "})(self);\n",
              "</script> "
            ]
          },
          "metadata": {}
        },
        {
          "output_type": "stream",
          "name": "stdout",
          "text": [
            "Saving 0OEXfEooCXlljaEl.png to 0OEXfEooCXlljaEl (2).png\n",
            "Saving 1CXgK9fgGdSRggD9.png to 1CXgK9fgGdSRggD9 (2).png\n",
            "1/1 [==============================] - 0s 149ms/step\n",
            "0OEXfEooCXlljaEl (2).png\n",
            "Class predict = rock\n",
            "[[0.10325311 0.89097905 0.00576781]]\n",
            "1/1 [==============================] - 0s 27ms/step\n",
            "1CXgK9fgGdSRggD9 (2).png\n",
            "Class predict = scissors\n",
            "[[0.02355693 0.00613599 0.97030705]]\n"
          ]
        },
        {
          "output_type": "display_data",
          "data": {
            "text/plain": [
              "<Figure size 640x480 with 1 Axes>"
            ],
            "image/png": "[encoded data removed]"
          },
          "metadata": {}
        }
      ]
    },
    {
      "cell_type": "markdown",
      "source": [],
      "metadata": {
        "id": "tNHEth6J0R9h"
      }
    }
  ]
}